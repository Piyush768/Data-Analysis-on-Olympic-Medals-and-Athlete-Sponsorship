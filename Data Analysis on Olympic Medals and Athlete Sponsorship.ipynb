{
  "nbformat": 4,
  "nbformat_minor": 0,
  "metadata": {
    "colab": {
      "provenance": []
    },
    "kernelspec": {
      "name": "ir",
      "display_name": "R"
    },
    "language_info": {
      "name": "R"
    }
  },
  "cells": [
    {
      "cell_type": "markdown",
      "source": [
        "#PIYUSH PATIL.\n",
        "## Title: Analysis of Historical Olympics Data.\n",
        "### Subtitle: Doing the Prediction and Analysis of Athlete and Sports for Kellog's Sponsorship."
      ],
      "metadata": {
        "id": "FB3rfn0WLA-w"
      }
    },
    {
      "cell_type": "markdown",
      "source": [
        "#** 1)  OBJECTIVE.*\n",
        "\n",
        "The proposed objective of this research is to analyse the historical data of Olympic games to find out the right sport and the athlete for Kellog's sponsorship.\n",
        "\n",
        "At first I have find out which country has own most of the Medals.\n",
        "\n",
        "After that I will filter out the in which sporthas won most Medals for that country.\n",
        "\n",
        "After that I will find out which athlete  has won the most medal and in which sports.\n",
        "\n",
        "After Predicting we will offer him the Kellog's sponsorship coz of he/she proven records."
      ],
      "metadata": {
        "id": "w8-kBRrZLJhD"
      }
    },
    {
      "cell_type": "markdown",
      "source": [
        "#2) *DATA EXPLORATION*\n",
        "##*DESCRIPTION*\n",
        "\n",
        "1. Analysing the country wise who has won the Highest Number of Medals\n",
        "2. We would figure it out which sports has won the most of the Medals\n",
        "3. We would find each Male and Female athlete who won most medals.\n",
        "4. By this we will analysis the Sportsperson to whom Kellogs should offer Sponcership\n"
      ],
      "metadata": {
        "id": "We2vYFslL134"
      }
    },
    {
      "cell_type": "code",
      "source": [
        "df1 <- read.csv(\"/content/athlete_events.csv\")\n",
        "#df1\n",
        "head(df1)\n",
        "dim(df1)"
      ],
      "metadata": {
        "colab": {
          "base_uri": "https://localhost:8080/",
          "height": 618
        },
        "id": "dVGBBZCu0UoU",
        "outputId": "fb069fa4-e8b2-46bb-b6b4-5a214d4cf90d"
      },
      "execution_count": 12,
      "outputs": [
        {
          "output_type": "display_data",
          "data": {
            "text/html": [
              "<table class=\"dataframe\">\n",
              "<caption>A data.frame: 6 × 15</caption>\n",
              "<thead>\n",
              "\t<tr><th></th><th scope=col>ID</th><th scope=col>Name</th><th scope=col>Sex</th><th scope=col>Age</th><th scope=col>Height</th><th scope=col>Weight</th><th scope=col>Team</th><th scope=col>NOC</th><th scope=col>Games</th><th scope=col>Year</th><th scope=col>Season</th><th scope=col>City</th><th scope=col>Sport</th><th scope=col>Event</th><th scope=col>Medal</th></tr>\n",
              "\t<tr><th></th><th scope=col>&lt;int&gt;</th><th scope=col>&lt;chr&gt;</th><th scope=col>&lt;chr&gt;</th><th scope=col>&lt;int&gt;</th><th scope=col>&lt;int&gt;</th><th scope=col>&lt;dbl&gt;</th><th scope=col>&lt;chr&gt;</th><th scope=col>&lt;chr&gt;</th><th scope=col>&lt;chr&gt;</th><th scope=col>&lt;int&gt;</th><th scope=col>&lt;chr&gt;</th><th scope=col>&lt;chr&gt;</th><th scope=col>&lt;chr&gt;</th><th scope=col>&lt;chr&gt;</th><th scope=col>&lt;chr&gt;</th></tr>\n",
              "</thead>\n",
              "<tbody>\n",
              "\t<tr><th scope=row>1</th><td>1</td><td>A Dijiang               </td><td>M</td><td>24</td><td>180</td><td>80</td><td>China         </td><td>CHN</td><td>1992 Summer</td><td>1992</td><td>Summer</td><td>Barcelona</td><td>Basketball   </td><td>Basketball Men's Basketball       </td><td>NA  </td></tr>\n",
              "\t<tr><th scope=row>2</th><td>2</td><td>A Lamusi                </td><td>M</td><td>23</td><td>170</td><td>60</td><td>China         </td><td>CHN</td><td>2012 Summer</td><td>2012</td><td>Summer</td><td>London   </td><td>Judo         </td><td>Judo Men's Extra-Lightweight      </td><td>NA  </td></tr>\n",
              "\t<tr><th scope=row>3</th><td>3</td><td>Gunnar Nielsen Aaby     </td><td>M</td><td>24</td><td> NA</td><td>NA</td><td>Denmark       </td><td>DEN</td><td>1920 Summer</td><td>1920</td><td>Summer</td><td>Antwerpen</td><td>Football     </td><td>Football Men's Football           </td><td>NA  </td></tr>\n",
              "\t<tr><th scope=row>4</th><td>4</td><td>Edgar Lindenau Aabye    </td><td>M</td><td>34</td><td> NA</td><td>NA</td><td>Denmark/Sweden</td><td>DEN</td><td>1900 Summer</td><td>1900</td><td>Summer</td><td>Paris    </td><td>Tug-Of-War   </td><td>Tug-Of-War Men's Tug-Of-War       </td><td>Gold</td></tr>\n",
              "\t<tr><th scope=row>5</th><td>5</td><td>Christine Jacoba Aaftink</td><td>F</td><td>21</td><td>185</td><td>82</td><td>Netherlands   </td><td>NED</td><td>1988 Winter</td><td>1988</td><td>Winter</td><td>Calgary  </td><td>Speed Skating</td><td>Speed Skating Women's 500 metres  </td><td>NA  </td></tr>\n",
              "\t<tr><th scope=row>6</th><td>5</td><td>Christine Jacoba Aaftink</td><td>F</td><td>21</td><td>185</td><td>82</td><td>Netherlands   </td><td>NED</td><td>1988 Winter</td><td>1988</td><td>Winter</td><td>Calgary  </td><td>Speed Skating</td><td>Speed Skating Women's 1,000 metres</td><td>NA  </td></tr>\n",
              "</tbody>\n",
              "</table>\n"
            ],
            "text/markdown": "\nA data.frame: 6 × 15\n\n| <!--/--> | ID &lt;int&gt; | Name &lt;chr&gt; | Sex &lt;chr&gt; | Age &lt;int&gt; | Height &lt;int&gt; | Weight &lt;dbl&gt; | Team &lt;chr&gt; | NOC &lt;chr&gt; | Games &lt;chr&gt; | Year &lt;int&gt; | Season &lt;chr&gt; | City &lt;chr&gt; | Sport &lt;chr&gt; | Event &lt;chr&gt; | Medal &lt;chr&gt; |\n|---|---|---|---|---|---|---|---|---|---|---|---|---|---|---|---|\n| 1 | 1 | A Dijiang                | M | 24 | 180 | 80 | China          | CHN | 1992 Summer | 1992 | Summer | Barcelona | Basketball    | Basketball Men's Basketball        | NA   |\n| 2 | 2 | A Lamusi                 | M | 23 | 170 | 60 | China          | CHN | 2012 Summer | 2012 | Summer | London    | Judo          | Judo Men's Extra-Lightweight       | NA   |\n| 3 | 3 | Gunnar Nielsen Aaby      | M | 24 |  NA | NA | Denmark        | DEN | 1920 Summer | 1920 | Summer | Antwerpen | Football      | Football Men's Football            | NA   |\n| 4 | 4 | Edgar Lindenau Aabye     | M | 34 |  NA | NA | Denmark/Sweden | DEN | 1900 Summer | 1900 | Summer | Paris     | Tug-Of-War    | Tug-Of-War Men's Tug-Of-War        | Gold |\n| 5 | 5 | Christine Jacoba Aaftink | F | 21 | 185 | 82 | Netherlands    | NED | 1988 Winter | 1988 | Winter | Calgary   | Speed Skating | Speed Skating Women's 500 metres   | NA   |\n| 6 | 5 | Christine Jacoba Aaftink | F | 21 | 185 | 82 | Netherlands    | NED | 1988 Winter | 1988 | Winter | Calgary   | Speed Skating | Speed Skating Women's 1,000 metres | NA   |\n\n",
            "text/latex": "A data.frame: 6 × 15\n\\begin{tabular}{r|lllllllllllllll}\n  & ID & Name & Sex & Age & Height & Weight & Team & NOC & Games & Year & Season & City & Sport & Event & Medal\\\\\n  & <int> & <chr> & <chr> & <int> & <int> & <dbl> & <chr> & <chr> & <chr> & <int> & <chr> & <chr> & <chr> & <chr> & <chr>\\\\\n\\hline\n\t1 & 1 & A Dijiang                & M & 24 & 180 & 80 & China          & CHN & 1992 Summer & 1992 & Summer & Barcelona & Basketball    & Basketball Men's Basketball        & NA  \\\\\n\t2 & 2 & A Lamusi                 & M & 23 & 170 & 60 & China          & CHN & 2012 Summer & 2012 & Summer & London    & Judo          & Judo Men's Extra-Lightweight       & NA  \\\\\n\t3 & 3 & Gunnar Nielsen Aaby      & M & 24 &  NA & NA & Denmark        & DEN & 1920 Summer & 1920 & Summer & Antwerpen & Football      & Football Men's Football            & NA  \\\\\n\t4 & 4 & Edgar Lindenau Aabye     & M & 34 &  NA & NA & Denmark/Sweden & DEN & 1900 Summer & 1900 & Summer & Paris     & Tug-Of-War    & Tug-Of-War Men's Tug-Of-War        & Gold\\\\\n\t5 & 5 & Christine Jacoba Aaftink & F & 21 & 185 & 82 & Netherlands    & NED & 1988 Winter & 1988 & Winter & Calgary   & Speed Skating & Speed Skating Women's 500 metres   & NA  \\\\\n\t6 & 5 & Christine Jacoba Aaftink & F & 21 & 185 & 82 & Netherlands    & NED & 1988 Winter & 1988 & Winter & Calgary   & Speed Skating & Speed Skating Women's 1,000 metres & NA  \\\\\n\\end{tabular}\n",
            "text/plain": [
              "  ID Name                     Sex Age Height Weight Team           NOC\n",
              "1 1  A Dijiang                M   24  180    80     China          CHN\n",
              "2 2  A Lamusi                 M   23  170    60     China          CHN\n",
              "3 3  Gunnar Nielsen Aaby      M   24   NA    NA     Denmark        DEN\n",
              "4 4  Edgar Lindenau Aabye     M   34   NA    NA     Denmark/Sweden DEN\n",
              "5 5  Christine Jacoba Aaftink F   21  185    82     Netherlands    NED\n",
              "6 5  Christine Jacoba Aaftink F   21  185    82     Netherlands    NED\n",
              "  Games       Year Season City      Sport        \n",
              "1 1992 Summer 1992 Summer Barcelona Basketball   \n",
              "2 2012 Summer 2012 Summer London    Judo         \n",
              "3 1920 Summer 1920 Summer Antwerpen Football     \n",
              "4 1900 Summer 1900 Summer Paris     Tug-Of-War   \n",
              "5 1988 Winter 1988 Winter Calgary   Speed Skating\n",
              "6 1988 Winter 1988 Winter Calgary   Speed Skating\n",
              "  Event                              Medal\n",
              "1 Basketball Men's Basketball        NA   \n",
              "2 Judo Men's Extra-Lightweight       NA   \n",
              "3 Football Men's Football            NA   \n",
              "4 Tug-Of-War Men's Tug-Of-War        Gold \n",
              "5 Speed Skating Women's 500 metres   NA   \n",
              "6 Speed Skating Women's 1,000 metres NA   "
            ]
          },
          "metadata": {}
        },
        {
          "output_type": "display_data",
          "data": {
            "text/html": [
              "<style>\n",
              ".list-inline {list-style: none; margin:0; padding: 0}\n",
              ".list-inline>li {display: inline-block}\n",
              ".list-inline>li:not(:last-child)::after {content: \"\\00b7\"; padding: 0 .5ex}\n",
              "</style>\n",
              "<ol class=list-inline><li>271116</li><li>15</li></ol>\n"
            ],
            "text/markdown": "1. 271116\n2. 15\n\n\n",
            "text/latex": "\\begin{enumerate*}\n\\item 271116\n\\item 15\n\\end{enumerate*}\n",
            "text/plain": [
              "[1] 271116     15"
            ]
          },
          "metadata": {}
        }
      ]
    },
    {
      "cell_type": "code",
      "source": [
        "df2 <- read.csv(\"/content/noc_regions.csv\")\n",
        "(df2)"
      ],
      "metadata": {
        "colab": {
          "base_uri": "https://localhost:8080/",
          "height": 1000
        },
        "id": "394IGz33_TF6",
        "outputId": "c8bbac8d-88ed-4fd1-c43c-4ad276cbcbf4"
      },
      "execution_count": 13,
      "outputs": [
        {
          "output_type": "display_data",
          "data": {
            "text/html": [
              "<table class=\"dataframe\">\n",
              "<caption>A data.frame: 230 × 3</caption>\n",
              "<thead>\n",
              "\t<tr><th scope=col>NOC</th><th scope=col>region</th><th scope=col>notes</th></tr>\n",
              "\t<tr><th scope=col>&lt;chr&gt;</th><th scope=col>&lt;chr&gt;</th><th scope=col>&lt;chr&gt;</th></tr>\n",
              "</thead>\n",
              "<tbody>\n",
              "\t<tr><td>AFG</td><td>Afghanistan           </td><td>                    </td></tr>\n",
              "\t<tr><td>AHO</td><td>Curacao               </td><td>Netherlands Antilles</td></tr>\n",
              "\t<tr><td>ALB</td><td>Albania               </td><td>                    </td></tr>\n",
              "\t<tr><td>ALG</td><td>Algeria               </td><td>                    </td></tr>\n",
              "\t<tr><td>AND</td><td>Andorra               </td><td>                    </td></tr>\n",
              "\t<tr><td>ANG</td><td>Angola                </td><td>                    </td></tr>\n",
              "\t<tr><td>ANT</td><td>Antigua               </td><td>Antigua and Barbuda </td></tr>\n",
              "\t<tr><td>ANZ</td><td>Australia             </td><td>Australasia         </td></tr>\n",
              "\t<tr><td>ARG</td><td>Argentina             </td><td>                    </td></tr>\n",
              "\t<tr><td>ARM</td><td>Armenia               </td><td>                    </td></tr>\n",
              "\t<tr><td>ARU</td><td>Aruba                 </td><td>                    </td></tr>\n",
              "\t<tr><td>ASA</td><td>American Samoa        </td><td>                    </td></tr>\n",
              "\t<tr><td>AUS</td><td>Australia             </td><td>                    </td></tr>\n",
              "\t<tr><td>AUT</td><td>Austria               </td><td>                    </td></tr>\n",
              "\t<tr><td>AZE</td><td>Azerbaijan            </td><td>                    </td></tr>\n",
              "\t<tr><td>BAH</td><td>Bahamas               </td><td>                    </td></tr>\n",
              "\t<tr><td>BAN</td><td>Bangladesh            </td><td>                    </td></tr>\n",
              "\t<tr><td>BAR</td><td>Barbados              </td><td>                    </td></tr>\n",
              "\t<tr><td>BDI</td><td>Burundi               </td><td>                    </td></tr>\n",
              "\t<tr><td>BEL</td><td>Belgium               </td><td>                    </td></tr>\n",
              "\t<tr><td>BEN</td><td>Benin                 </td><td>                    </td></tr>\n",
              "\t<tr><td>BER</td><td>Bermuda               </td><td>                    </td></tr>\n",
              "\t<tr><td>BHU</td><td>Bhutan                </td><td>                    </td></tr>\n",
              "\t<tr><td>BIH</td><td>Bosnia and Herzegovina</td><td>                    </td></tr>\n",
              "\t<tr><td>BIZ</td><td>Belize                </td><td>                    </td></tr>\n",
              "\t<tr><td>BLR</td><td>Belarus               </td><td>                    </td></tr>\n",
              "\t<tr><td>BOH</td><td>Czech Republic        </td><td>Bohemia             </td></tr>\n",
              "\t<tr><td>BOL</td><td>Boliva                </td><td>                    </td></tr>\n",
              "\t<tr><td>BOT</td><td>Botswana              </td><td>                    </td></tr>\n",
              "\t<tr><td>BRA</td><td>Brazil                </td><td>                    </td></tr>\n",
              "\t<tr><td>⋮</td><td>⋮</td><td>⋮</td></tr>\n",
              "\t<tr><td>TJK</td><td>Tajikistan          </td><td>                      </td></tr>\n",
              "\t<tr><td>TKM</td><td>Turkmenistan        </td><td>                      </td></tr>\n",
              "\t<tr><td>TLS</td><td>Timor-Leste         </td><td>                      </td></tr>\n",
              "\t<tr><td>TOG</td><td>Togo                </td><td>                      </td></tr>\n",
              "\t<tr><td>TPE</td><td>Taiwan              </td><td>                      </td></tr>\n",
              "\t<tr><td>TTO</td><td>Trinidad            </td><td>Trinidad and Tobago   </td></tr>\n",
              "\t<tr><td>TUN</td><td>Tunisia             </td><td>                      </td></tr>\n",
              "\t<tr><td>TUR</td><td>Turkey              </td><td>                      </td></tr>\n",
              "\t<tr><td>TUV</td><td>NA                  </td><td>Tuvalu                </td></tr>\n",
              "\t<tr><td>UAE</td><td>United Arab Emirates</td><td>                      </td></tr>\n",
              "\t<tr><td>UAR</td><td>Syria               </td><td>United Arab Republic  </td></tr>\n",
              "\t<tr><td>UGA</td><td>Uganda              </td><td>                      </td></tr>\n",
              "\t<tr><td>UKR</td><td>Ukraine             </td><td>                      </td></tr>\n",
              "\t<tr><td>UNK</td><td>NA                  </td><td>Unknown               </td></tr>\n",
              "\t<tr><td>URS</td><td>Russia              </td><td>                      </td></tr>\n",
              "\t<tr><td>URU</td><td>Uruguay             </td><td>                      </td></tr>\n",
              "\t<tr><td>USA</td><td>USA                 </td><td>                      </td></tr>\n",
              "\t<tr><td>UZB</td><td>Uzbekistan          </td><td>                      </td></tr>\n",
              "\t<tr><td>VAN</td><td>Vanuatu             </td><td>                      </td></tr>\n",
              "\t<tr><td>VEN</td><td>Venezuela           </td><td>                      </td></tr>\n",
              "\t<tr><td>VIE</td><td>Vietnam             </td><td>                      </td></tr>\n",
              "\t<tr><td>VIN</td><td>Saint Vincent       </td><td>                      </td></tr>\n",
              "\t<tr><td>VNM</td><td>Vietnam             </td><td>                      </td></tr>\n",
              "\t<tr><td>WIF</td><td>Trinidad            </td><td>West Indies Federation</td></tr>\n",
              "\t<tr><td>YAR</td><td>Yemen               </td><td>North Yemen           </td></tr>\n",
              "\t<tr><td>YEM</td><td>Yemen               </td><td>                      </td></tr>\n",
              "\t<tr><td>YMD</td><td>Yemen               </td><td>South Yemen           </td></tr>\n",
              "\t<tr><td>YUG</td><td>Serbia              </td><td>Yugoslavia            </td></tr>\n",
              "\t<tr><td>ZAM</td><td>Zambia              </td><td>                      </td></tr>\n",
              "\t<tr><td>ZIM</td><td>Zimbabwe            </td><td>                      </td></tr>\n",
              "</tbody>\n",
              "</table>\n"
            ],
            "text/markdown": "\nA data.frame: 230 × 3\n\n| NOC &lt;chr&gt; | region &lt;chr&gt; | notes &lt;chr&gt; |\n|---|---|---|\n| AFG | Afghanistan            | <!----> |\n| AHO | Curacao                | Netherlands Antilles |\n| ALB | Albania                | <!----> |\n| ALG | Algeria                | <!----> |\n| AND | Andorra                | <!----> |\n| ANG | Angola                 | <!----> |\n| ANT | Antigua                | Antigua and Barbuda  |\n| ANZ | Australia              | Australasia          |\n| ARG | Argentina              | <!----> |\n| ARM | Armenia                | <!----> |\n| ARU | Aruba                  | <!----> |\n| ASA | American Samoa         | <!----> |\n| AUS | Australia              | <!----> |\n| AUT | Austria                | <!----> |\n| AZE | Azerbaijan             | <!----> |\n| BAH | Bahamas                | <!----> |\n| BAN | Bangladesh             | <!----> |\n| BAR | Barbados               | <!----> |\n| BDI | Burundi                | <!----> |\n| BEL | Belgium                | <!----> |\n| BEN | Benin                  | <!----> |\n| BER | Bermuda                | <!----> |\n| BHU | Bhutan                 | <!----> |\n| BIH | Bosnia and Herzegovina | <!----> |\n| BIZ | Belize                 | <!----> |\n| BLR | Belarus                | <!----> |\n| BOH | Czech Republic         | Bohemia              |\n| BOL | Boliva                 | <!----> |\n| BOT | Botswana               | <!----> |\n| BRA | Brazil                 | <!----> |\n| ⋮ | ⋮ | ⋮ |\n| TJK | Tajikistan           | <!----> |\n| TKM | Turkmenistan         | <!----> |\n| TLS | Timor-Leste          | <!----> |\n| TOG | Togo                 | <!----> |\n| TPE | Taiwan               | <!----> |\n| TTO | Trinidad             | Trinidad and Tobago    |\n| TUN | Tunisia              | <!----> |\n| TUR | Turkey               | <!----> |\n| TUV | NA                   | Tuvalu                 |\n| UAE | United Arab Emirates | <!----> |\n| UAR | Syria                | United Arab Republic   |\n| UGA | Uganda               | <!----> |\n| UKR | Ukraine              | <!----> |\n| UNK | NA                   | Unknown                |\n| URS | Russia               | <!----> |\n| URU | Uruguay              | <!----> |\n| USA | USA                  | <!----> |\n| UZB | Uzbekistan           | <!----> |\n| VAN | Vanuatu              | <!----> |\n| VEN | Venezuela            | <!----> |\n| VIE | Vietnam              | <!----> |\n| VIN | Saint Vincent        | <!----> |\n| VNM | Vietnam              | <!----> |\n| WIF | Trinidad             | West Indies Federation |\n| YAR | Yemen                | North Yemen            |\n| YEM | Yemen                | <!----> |\n| YMD | Yemen                | South Yemen            |\n| YUG | Serbia               | Yugoslavia             |\n| ZAM | Zambia               | <!----> |\n| ZIM | Zimbabwe             | <!----> |\n\n",
            "text/latex": "A data.frame: 230 × 3\n\\begin{tabular}{lll}\n NOC & region & notes\\\\\n <chr> & <chr> & <chr>\\\\\n\\hline\n\t AFG & Afghanistan            &                     \\\\\n\t AHO & Curacao                & Netherlands Antilles\\\\\n\t ALB & Albania                &                     \\\\\n\t ALG & Algeria                &                     \\\\\n\t AND & Andorra                &                     \\\\\n\t ANG & Angola                 &                     \\\\\n\t ANT & Antigua                & Antigua and Barbuda \\\\\n\t ANZ & Australia              & Australasia         \\\\\n\t ARG & Argentina              &                     \\\\\n\t ARM & Armenia                &                     \\\\\n\t ARU & Aruba                  &                     \\\\\n\t ASA & American Samoa         &                     \\\\\n\t AUS & Australia              &                     \\\\\n\t AUT & Austria                &                     \\\\\n\t AZE & Azerbaijan             &                     \\\\\n\t BAH & Bahamas                &                     \\\\\n\t BAN & Bangladesh             &                     \\\\\n\t BAR & Barbados               &                     \\\\\n\t BDI & Burundi                &                     \\\\\n\t BEL & Belgium                &                     \\\\\n\t BEN & Benin                  &                     \\\\\n\t BER & Bermuda                &                     \\\\\n\t BHU & Bhutan                 &                     \\\\\n\t BIH & Bosnia and Herzegovina &                     \\\\\n\t BIZ & Belize                 &                     \\\\\n\t BLR & Belarus                &                     \\\\\n\t BOH & Czech Republic         & Bohemia             \\\\\n\t BOL & Boliva                 &                     \\\\\n\t BOT & Botswana               &                     \\\\\n\t BRA & Brazil                 &                     \\\\\n\t ⋮ & ⋮ & ⋮\\\\\n\t TJK & Tajikistan           &                       \\\\\n\t TKM & Turkmenistan         &                       \\\\\n\t TLS & Timor-Leste          &                       \\\\\n\t TOG & Togo                 &                       \\\\\n\t TPE & Taiwan               &                       \\\\\n\t TTO & Trinidad             & Trinidad and Tobago   \\\\\n\t TUN & Tunisia              &                       \\\\\n\t TUR & Turkey               &                       \\\\\n\t TUV & NA                   & Tuvalu                \\\\\n\t UAE & United Arab Emirates &                       \\\\\n\t UAR & Syria                & United Arab Republic  \\\\\n\t UGA & Uganda               &                       \\\\\n\t UKR & Ukraine              &                       \\\\\n\t UNK & NA                   & Unknown               \\\\\n\t URS & Russia               &                       \\\\\n\t URU & Uruguay              &                       \\\\\n\t USA & USA                  &                       \\\\\n\t UZB & Uzbekistan           &                       \\\\\n\t VAN & Vanuatu              &                       \\\\\n\t VEN & Venezuela            &                       \\\\\n\t VIE & Vietnam              &                       \\\\\n\t VIN & Saint Vincent        &                       \\\\\n\t VNM & Vietnam              &                       \\\\\n\t WIF & Trinidad             & West Indies Federation\\\\\n\t YAR & Yemen                & North Yemen           \\\\\n\t YEM & Yemen                &                       \\\\\n\t YMD & Yemen                & South Yemen           \\\\\n\t YUG & Serbia               & Yugoslavia            \\\\\n\t ZAM & Zambia               &                       \\\\\n\t ZIM & Zimbabwe             &                       \\\\\n\\end{tabular}\n",
            "text/plain": [
              "    NOC region                 notes                 \n",
              "1   AFG Afghanistan                                  \n",
              "2   AHO Curacao                Netherlands Antilles  \n",
              "3   ALB Albania                                      \n",
              "4   ALG Algeria                                      \n",
              "5   AND Andorra                                      \n",
              "6   ANG Angola                                       \n",
              "7   ANT Antigua                Antigua and Barbuda   \n",
              "8   ANZ Australia              Australasia           \n",
              "9   ARG Argentina                                    \n",
              "10  ARM Armenia                                      \n",
              "11  ARU Aruba                                        \n",
              "12  ASA American Samoa                               \n",
              "13  AUS Australia                                    \n",
              "14  AUT Austria                                      \n",
              "15  AZE Azerbaijan                                   \n",
              "16  BAH Bahamas                                      \n",
              "17  BAN Bangladesh                                   \n",
              "18  BAR Barbados                                     \n",
              "19  BDI Burundi                                      \n",
              "20  BEL Belgium                                      \n",
              "21  BEN Benin                                        \n",
              "22  BER Bermuda                                      \n",
              "23  BHU Bhutan                                       \n",
              "24  BIH Bosnia and Herzegovina                       \n",
              "25  BIZ Belize                                       \n",
              "26  BLR Belarus                                      \n",
              "27  BOH Czech Republic         Bohemia               \n",
              "28  BOL Boliva                                       \n",
              "29  BOT Botswana                                     \n",
              "30  BRA Brazil                                       \n",
              "⋮   ⋮   ⋮                      ⋮                     \n",
              "201 TJK Tajikistan                                   \n",
              "202 TKM Turkmenistan                                 \n",
              "203 TLS Timor-Leste                                  \n",
              "204 TOG Togo                                         \n",
              "205 TPE Taiwan                                       \n",
              "206 TTO Trinidad               Trinidad and Tobago   \n",
              "207 TUN Tunisia                                      \n",
              "208 TUR Turkey                                       \n",
              "209 TUV NA                     Tuvalu                \n",
              "210 UAE United Arab Emirates                         \n",
              "211 UAR Syria                  United Arab Republic  \n",
              "212 UGA Uganda                                       \n",
              "213 UKR Ukraine                                      \n",
              "214 UNK NA                     Unknown               \n",
              "215 URS Russia                                       \n",
              "216 URU Uruguay                                      \n",
              "217 USA USA                                          \n",
              "218 UZB Uzbekistan                                   \n",
              "219 VAN Vanuatu                                      \n",
              "220 VEN Venezuela                                    \n",
              "221 VIE Vietnam                                      \n",
              "222 VIN Saint Vincent                                \n",
              "223 VNM Vietnam                                      \n",
              "224 WIF Trinidad               West Indies Federation\n",
              "225 YAR Yemen                  North Yemen           \n",
              "226 YEM Yemen                                        \n",
              "227 YMD Yemen                  South Yemen           \n",
              "228 YUG Serbia                 Yugoslavia            \n",
              "229 ZAM Zambia                                       \n",
              "230 ZIM Zimbabwe                                     "
            ]
          },
          "metadata": {}
        }
      ]
    },
    {
      "cell_type": "code",
      "source": [
        "df3 <- merge(df1,df2, by =\"NOC\")\n",
        "head(df3)\n",
        "dim(df3)"
      ],
      "metadata": {
        "colab": {
          "base_uri": "https://localhost:8080/",
          "height": 566
        },
        "id": "2TJxgMO9AlFH",
        "outputId": "e768df94-9be1-4f5e-8266-b14975e67d2b"
      },
      "execution_count": 17,
      "outputs": [
        {
          "output_type": "display_data",
          "data": {
            "text/html": [
              "<table class=\"dataframe\">\n",
              "<caption>A data.frame: 6 × 17</caption>\n",
              "<thead>\n",
              "\t<tr><th></th><th scope=col>NOC</th><th scope=col>ID</th><th scope=col>Name</th><th scope=col>Sex</th><th scope=col>Age</th><th scope=col>Height</th><th scope=col>Weight</th><th scope=col>Team</th><th scope=col>Games</th><th scope=col>Year</th><th scope=col>Season</th><th scope=col>City</th><th scope=col>Sport</th><th scope=col>Event</th><th scope=col>Medal</th><th scope=col>region</th><th scope=col>notes</th></tr>\n",
              "\t<tr><th></th><th scope=col>&lt;chr&gt;</th><th scope=col>&lt;int&gt;</th><th scope=col>&lt;chr&gt;</th><th scope=col>&lt;chr&gt;</th><th scope=col>&lt;int&gt;</th><th scope=col>&lt;int&gt;</th><th scope=col>&lt;dbl&gt;</th><th scope=col>&lt;chr&gt;</th><th scope=col>&lt;chr&gt;</th><th scope=col>&lt;int&gt;</th><th scope=col>&lt;chr&gt;</th><th scope=col>&lt;chr&gt;</th><th scope=col>&lt;chr&gt;</th><th scope=col>&lt;chr&gt;</th><th scope=col>&lt;chr&gt;</th><th scope=col>&lt;chr&gt;</th><th scope=col>&lt;chr&gt;</th></tr>\n",
              "</thead>\n",
              "<tbody>\n",
              "\t<tr><th scope=row>1</th><td>AFG</td><td>132181</td><td>Najam Yahya          </td><td>M</td><td>NA</td><td> NA</td><td>NA</td><td>Afghanistan</td><td>1956 Summer</td><td>1956</td><td>Summer</td><td>Melbourne</td><td>Hockey   </td><td>Hockey Men's Hockey                    </td><td>NA</td><td>Afghanistan</td><td></td></tr>\n",
              "\t<tr><th scope=row>2</th><td>AFG</td><td> 87371</td><td>Ahmad Jahan Nuristani</td><td>M</td><td>NA</td><td> NA</td><td>NA</td><td>Afghanistan</td><td>1948 Summer</td><td>1948</td><td>Summer</td><td>London   </td><td>Hockey   </td><td>Hockey Men's Hockey                    </td><td>NA</td><td>Afghanistan</td><td></td></tr>\n",
              "\t<tr><th scope=row>3</th><td>AFG</td><td> 44977</td><td>Mohammad Halilula    </td><td>M</td><td>28</td><td>163</td><td>57</td><td>Afghanistan</td><td>1980 Summer</td><td>1980</td><td>Summer</td><td>Moskva   </td><td>Wrestling</td><td>Wrestling Men's Bantamweight, Freestyle</td><td>NA</td><td>Afghanistan</td><td></td></tr>\n",
              "\t<tr><th scope=row>4</th><td>AFG</td><td>   502</td><td>Ahmad Shah Abouwi    </td><td>M</td><td>NA</td><td> NA</td><td>NA</td><td>Afghanistan</td><td>1956 Summer</td><td>1956</td><td>Summer</td><td>Melbourne</td><td>Hockey   </td><td>Hockey Men's Hockey                    </td><td>NA</td><td>Afghanistan</td><td></td></tr>\n",
              "\t<tr><th scope=row>5</th><td>AFG</td><td>109153</td><td>Shakar Khan Shakar   </td><td>M</td><td>24</td><td> NA</td><td>74</td><td>Afghanistan</td><td>1964 Summer</td><td>1964</td><td>Summer</td><td>Tokyo    </td><td>Wrestling</td><td>Wrestling Men's Welterweight, Freestyle</td><td>NA</td><td>Afghanistan</td><td></td></tr>\n",
              "\t<tr><th scope=row>6</th><td>AFG</td><td> 29626</td><td>Sultan Mohammad Dost </td><td>M</td><td>28</td><td>168</td><td>73</td><td>Afghanistan</td><td>1960 Summer</td><td>1960</td><td>Summer</td><td>Roma     </td><td>Wrestling</td><td>Wrestling Men's Welterweight, Freestyle</td><td>NA</td><td>Afghanistan</td><td></td></tr>\n",
              "</tbody>\n",
              "</table>\n"
            ],
            "text/markdown": "\nA data.frame: 6 × 17\n\n| <!--/--> | NOC &lt;chr&gt; | ID &lt;int&gt; | Name &lt;chr&gt; | Sex &lt;chr&gt; | Age &lt;int&gt; | Height &lt;int&gt; | Weight &lt;dbl&gt; | Team &lt;chr&gt; | Games &lt;chr&gt; | Year &lt;int&gt; | Season &lt;chr&gt; | City &lt;chr&gt; | Sport &lt;chr&gt; | Event &lt;chr&gt; | Medal &lt;chr&gt; | region &lt;chr&gt; | notes &lt;chr&gt; |\n|---|---|---|---|---|---|---|---|---|---|---|---|---|---|---|---|---|---|\n| 1 | AFG | 132181 | Najam Yahya           | M | NA |  NA | NA | Afghanistan | 1956 Summer | 1956 | Summer | Melbourne | Hockey    | Hockey Men's Hockey                     | NA | Afghanistan | <!----> |\n| 2 | AFG |  87371 | Ahmad Jahan Nuristani | M | NA |  NA | NA | Afghanistan | 1948 Summer | 1948 | Summer | London    | Hockey    | Hockey Men's Hockey                     | NA | Afghanistan | <!----> |\n| 3 | AFG |  44977 | Mohammad Halilula     | M | 28 | 163 | 57 | Afghanistan | 1980 Summer | 1980 | Summer | Moskva    | Wrestling | Wrestling Men's Bantamweight, Freestyle | NA | Afghanistan | <!----> |\n| 4 | AFG |    502 | Ahmad Shah Abouwi     | M | NA |  NA | NA | Afghanistan | 1956 Summer | 1956 | Summer | Melbourne | Hockey    | Hockey Men's Hockey                     | NA | Afghanistan | <!----> |\n| 5 | AFG | 109153 | Shakar Khan Shakar    | M | 24 |  NA | 74 | Afghanistan | 1964 Summer | 1964 | Summer | Tokyo     | Wrestling | Wrestling Men's Welterweight, Freestyle | NA | Afghanistan | <!----> |\n| 6 | AFG |  29626 | Sultan Mohammad Dost  | M | 28 | 168 | 73 | Afghanistan | 1960 Summer | 1960 | Summer | Roma      | Wrestling | Wrestling Men's Welterweight, Freestyle | NA | Afghanistan | <!----> |\n\n",
            "text/latex": "A data.frame: 6 × 17\n\\begin{tabular}{r|lllllllllllllllll}\n  & NOC & ID & Name & Sex & Age & Height & Weight & Team & Games & Year & Season & City & Sport & Event & Medal & region & notes\\\\\n  & <chr> & <int> & <chr> & <chr> & <int> & <int> & <dbl> & <chr> & <chr> & <int> & <chr> & <chr> & <chr> & <chr> & <chr> & <chr> & <chr>\\\\\n\\hline\n\t1 & AFG & 132181 & Najam Yahya           & M & NA &  NA & NA & Afghanistan & 1956 Summer & 1956 & Summer & Melbourne & Hockey    & Hockey Men's Hockey                     & NA & Afghanistan & \\\\\n\t2 & AFG &  87371 & Ahmad Jahan Nuristani & M & NA &  NA & NA & Afghanistan & 1948 Summer & 1948 & Summer & London    & Hockey    & Hockey Men's Hockey                     & NA & Afghanistan & \\\\\n\t3 & AFG &  44977 & Mohammad Halilula     & M & 28 & 163 & 57 & Afghanistan & 1980 Summer & 1980 & Summer & Moskva    & Wrestling & Wrestling Men's Bantamweight, Freestyle & NA & Afghanistan & \\\\\n\t4 & AFG &    502 & Ahmad Shah Abouwi     & M & NA &  NA & NA & Afghanistan & 1956 Summer & 1956 & Summer & Melbourne & Hockey    & Hockey Men's Hockey                     & NA & Afghanistan & \\\\\n\t5 & AFG & 109153 & Shakar Khan Shakar    & M & 24 &  NA & 74 & Afghanistan & 1964 Summer & 1964 & Summer & Tokyo     & Wrestling & Wrestling Men's Welterweight, Freestyle & NA & Afghanistan & \\\\\n\t6 & AFG &  29626 & Sultan Mohammad Dost  & M & 28 & 168 & 73 & Afghanistan & 1960 Summer & 1960 & Summer & Roma      & Wrestling & Wrestling Men's Welterweight, Freestyle & NA & Afghanistan & \\\\\n\\end{tabular}\n",
            "text/plain": [
              "  NOC ID     Name                  Sex Age Height Weight Team       \n",
              "1 AFG 132181 Najam Yahya           M   NA   NA    NA     Afghanistan\n",
              "2 AFG  87371 Ahmad Jahan Nuristani M   NA   NA    NA     Afghanistan\n",
              "3 AFG  44977 Mohammad Halilula     M   28  163    57     Afghanistan\n",
              "4 AFG    502 Ahmad Shah Abouwi     M   NA   NA    NA     Afghanistan\n",
              "5 AFG 109153 Shakar Khan Shakar    M   24   NA    74     Afghanistan\n",
              "6 AFG  29626 Sultan Mohammad Dost  M   28  168    73     Afghanistan\n",
              "  Games       Year Season City      Sport    \n",
              "1 1956 Summer 1956 Summer Melbourne Hockey   \n",
              "2 1948 Summer 1948 Summer London    Hockey   \n",
              "3 1980 Summer 1980 Summer Moskva    Wrestling\n",
              "4 1956 Summer 1956 Summer Melbourne Hockey   \n",
              "5 1964 Summer 1964 Summer Tokyo     Wrestling\n",
              "6 1960 Summer 1960 Summer Roma      Wrestling\n",
              "  Event                                   Medal region      notes\n",
              "1 Hockey Men's Hockey                     NA    Afghanistan      \n",
              "2 Hockey Men's Hockey                     NA    Afghanistan      \n",
              "3 Wrestling Men's Bantamweight, Freestyle NA    Afghanistan      \n",
              "4 Hockey Men's Hockey                     NA    Afghanistan      \n",
              "5 Wrestling Men's Welterweight, Freestyle NA    Afghanistan      \n",
              "6 Wrestling Men's Welterweight, Freestyle NA    Afghanistan      "
            ]
          },
          "metadata": {}
        },
        {
          "output_type": "display_data",
          "data": {
            "text/html": [
              "<style>\n",
              ".list-inline {list-style: none; margin:0; padding: 0}\n",
              ".list-inline>li {display: inline-block}\n",
              ".list-inline>li:not(:last-child)::after {content: \"\\00b7\"; padding: 0 .5ex}\n",
              "</style>\n",
              "<ol class=list-inline><li>270767</li><li>17</li></ol>\n"
            ],
            "text/markdown": "1. 270767\n2. 17\n\n\n",
            "text/latex": "\\begin{enumerate*}\n\\item 270767\n\\item 17\n\\end{enumerate*}\n",
            "text/plain": [
              "[1] 270767     17"
            ]
          },
          "metadata": {}
        }
      ]
    },
    {
      "cell_type": "code",
      "source": [
        "colnames(df3)\n",
        "dim(df3)"
      ],
      "metadata": {
        "colab": {
          "base_uri": "https://localhost:8080/",
          "height": 52
        },
        "id": "MRgbKA5u2DRq",
        "outputId": "226215a0-a9be-4157-ecf2-8a42b3e1d8d0"
      },
      "execution_count": 18,
      "outputs": [
        {
          "output_type": "display_data",
          "data": {
            "text/html": [
              "<style>\n",
              ".list-inline {list-style: none; margin:0; padding: 0}\n",
              ".list-inline>li {display: inline-block}\n",
              ".list-inline>li:not(:last-child)::after {content: \"\\00b7\"; padding: 0 .5ex}\n",
              "</style>\n",
              "<ol class=list-inline><li>'NOC'</li><li>'ID'</li><li>'Name'</li><li>'Sex'</li><li>'Age'</li><li>'Height'</li><li>'Weight'</li><li>'Team'</li><li>'Games'</li><li>'Year'</li><li>'Season'</li><li>'City'</li><li>'Sport'</li><li>'Event'</li><li>'Medal'</li><li>'region'</li><li>'notes'</li></ol>\n"
            ],
            "text/markdown": "1. 'NOC'\n2. 'ID'\n3. 'Name'\n4. 'Sex'\n5. 'Age'\n6. 'Height'\n7. 'Weight'\n8. 'Team'\n9. 'Games'\n10. 'Year'\n11. 'Season'\n12. 'City'\n13. 'Sport'\n14. 'Event'\n15. 'Medal'\n16. 'region'\n17. 'notes'\n\n\n",
            "text/latex": "\\begin{enumerate*}\n\\item 'NOC'\n\\item 'ID'\n\\item 'Name'\n\\item 'Sex'\n\\item 'Age'\n\\item 'Height'\n\\item 'Weight'\n\\item 'Team'\n\\item 'Games'\n\\item 'Year'\n\\item 'Season'\n\\item 'City'\n\\item 'Sport'\n\\item 'Event'\n\\item 'Medal'\n\\item 'region'\n\\item 'notes'\n\\end{enumerate*}\n",
            "text/plain": [
              " [1] \"NOC\"    \"ID\"     \"Name\"   \"Sex\"    \"Age\"    \"Height\" \"Weight\" \"Team\"  \n",
              " [9] \"Games\"  \"Year\"   \"Season\" \"City\"   \"Sport\"  \"Event\"  \"Medal\"  \"region\"\n",
              "[17] \"notes\" "
            ]
          },
          "metadata": {}
        },
        {
          "output_type": "display_data",
          "data": {
            "text/html": [
              "<style>\n",
              ".list-inline {list-style: none; margin:0; padding: 0}\n",
              ".list-inline>li {display: inline-block}\n",
              ".list-inline>li:not(:last-child)::after {content: \"\\00b7\"; padding: 0 .5ex}\n",
              "</style>\n",
              "<ol class=list-inline><li>270767</li><li>17</li></ol>\n"
            ],
            "text/markdown": "1. 270767\n2. 17\n\n\n",
            "text/latex": "\\begin{enumerate*}\n\\item 270767\n\\item 17\n\\end{enumerate*}\n",
            "text/plain": [
              "[1] 270767     17"
            ]
          },
          "metadata": {}
        }
      ]
    },
    {
      "cell_type": "code",
      "source": [
        "length(unique(df3$NOC))"
      ],
      "metadata": {
        "colab": {
          "base_uri": "https://localhost:8080/",
          "height": 34
        },
        "id": "tHQ-1kDX2QUH",
        "outputId": "817102f6-12d2-4bef-c2dc-ca39dce51c56"
      },
      "execution_count": 16,
      "outputs": [
        {
          "output_type": "display_data",
          "data": {
            "text/html": [
              "229"
            ],
            "text/markdown": "229",
            "text/latex": "229",
            "text/plain": [
              "[1] 229"
            ]
          },
          "metadata": {}
        }
      ]
    },
    {
      "cell_type": "markdown",
      "source": [
        "Col names from the final dataframe df3"
      ],
      "metadata": {
        "id": "vsswPg6k2VaG"
      }
    },
    {
      "cell_type": "code",
      "source": [
        "colnames(df3)"
      ],
      "metadata": {
        "colab": {
          "base_uri": "https://localhost:8080/",
          "height": 34
        },
        "id": "cff9N8Ib2Xbo",
        "outputId": "3eb1f2b2-8187-497d-c910-e3f75a5bdd64"
      },
      "execution_count": 6,
      "outputs": [
        {
          "output_type": "display_data",
          "data": {
            "text/html": [
              "<style>\n",
              ".list-inline {list-style: none; margin:0; padding: 0}\n",
              ".list-inline>li {display: inline-block}\n",
              ".list-inline>li:not(:last-child)::after {content: \"\\00b7\"; padding: 0 .5ex}\n",
              "</style>\n",
              "<ol class=list-inline><li>'NOC'</li><li>'ID'</li><li>'Name'</li><li>'Sex'</li><li>'Age'</li><li>'Height'</li><li>'Weight'</li><li>'Team'</li><li>'Games'</li><li>'Year'</li><li>'Season'</li><li>'City'</li><li>'Sport'</li><li>'Event'</li><li>'Medal'</li><li>'region'</li><li>'notes'</li></ol>\n"
            ],
            "text/markdown": "1. 'NOC'\n2. 'ID'\n3. 'Name'\n4. 'Sex'\n5. 'Age'\n6. 'Height'\n7. 'Weight'\n8. 'Team'\n9. 'Games'\n10. 'Year'\n11. 'Season'\n12. 'City'\n13. 'Sport'\n14. 'Event'\n15. 'Medal'\n16. 'region'\n17. 'notes'\n\n\n",
            "text/latex": "\\begin{enumerate*}\n\\item 'NOC'\n\\item 'ID'\n\\item 'Name'\n\\item 'Sex'\n\\item 'Age'\n\\item 'Height'\n\\item 'Weight'\n\\item 'Team'\n\\item 'Games'\n\\item 'Year'\n\\item 'Season'\n\\item 'City'\n\\item 'Sport'\n\\item 'Event'\n\\item 'Medal'\n\\item 'region'\n\\item 'notes'\n\\end{enumerate*}\n",
            "text/plain": [
              " [1] \"NOC\"    \"ID\"     \"Name\"   \"Sex\"    \"Age\"    \"Height\" \"Weight\" \"Team\"  \n",
              " [9] \"Games\"  \"Year\"   \"Season\" \"City\"   \"Sport\"  \"Event\"  \"Medal\"  \"region\"\n",
              "[17] \"notes\" "
            ]
          },
          "metadata": {}
        }
      ]
    },
    {
      "cell_type": "markdown",
      "source": [
        " Getting the summary of dataframe df3 which gives us the length, median and interquantile range of the columns in our dataset."
      ],
      "metadata": {
        "id": "d83K4kfO2e1q"
      }
    },
    {
      "cell_type": "code",
      "source": [
        "summary(df3)"
      ],
      "metadata": {
        "colab": {
          "base_uri": "https://localhost:8080/",
          "height": 711
        },
        "id": "Dq1Wcwix2g6n",
        "outputId": "8ac695cd-9a5f-407e-dc6f-aa7db5dd1789"
      },
      "execution_count": 7,
      "outputs": [
        {
          "output_type": "display_data",
          "data": {
            "text/plain": [
              "     NOC                  ID             Name               Sex           \n",
              " Length:270767      Min.   :     1   Length:270767      Length:270767     \n",
              " Class :character   1st Qu.: 34630   Class :character   Class :character  \n",
              " Mode  :character   Median : 68187   Mode  :character   Mode  :character  \n",
              "                    Mean   : 68229                                        \n",
              "                    3rd Qu.:102066                                        \n",
              "                    Max.   :135571                                        \n",
              "                                                                          \n",
              "      Age            Height          Weight           Team          \n",
              " Min.   :10.00   Min.   :127.0   Min.   : 25.00   Length:270767     \n",
              " 1st Qu.:21.00   1st Qu.:168.0   1st Qu.: 60.00   Class :character  \n",
              " Median :24.00   Median :175.0   Median : 70.00   Mode  :character  \n",
              " Mean   :25.56   Mean   :175.3   Mean   : 70.71                     \n",
              " 3rd Qu.:28.00   3rd Qu.:183.0   3rd Qu.: 79.00                     \n",
              " Max.   :97.00   Max.   :226.0   Max.   :214.00                     \n",
              " NA's   :9462    NA's   :60083   NA's   :62785                      \n",
              "    Games                Year         Season              City          \n",
              " Length:270767      Min.   :1896   Length:270767      Length:270767     \n",
              " Class :character   1st Qu.:1960   Class :character   Class :character  \n",
              " Mode  :character   Median :1988   Mode  :character   Mode  :character  \n",
              "                    Mean   :1978                                        \n",
              "                    3rd Qu.:2002                                        \n",
              "                    Max.   :2016                                        \n",
              "                                                                        \n",
              "    Sport              Event              Medal              region         \n",
              " Length:270767      Length:270767      Length:270767      Length:270767     \n",
              " Class :character   Class :character   Class :character   Class :character  \n",
              " Mode  :character   Mode  :character   Mode  :character   Mode  :character  \n",
              "                                                                            \n",
              "                                                                            \n",
              "                                                                            \n",
              "                                                                            \n",
              "    notes          \n",
              " Length:270767     \n",
              " Class :character  \n",
              " Mode  :character  \n",
              "                   \n",
              "                   \n",
              "                   \n",
              "                   "
            ]
          },
          "metadata": {}
        }
      ]
    },
    {
      "cell_type": "markdown",
      "source": [
        "Counting the number of rows and columns in our dataframe by dim() function\n"
      ],
      "metadata": {
        "id": "AI1V94Sj2wws"
      }
    },
    {
      "cell_type": "code",
      "source": [
        "dim(df3)"
      ],
      "metadata": {
        "colab": {
          "base_uri": "https://localhost:8080/",
          "height": 34
        },
        "id": "g2UwAVXU2yDB",
        "outputId": "61c494a7-4e83-47be-bf1b-53dec31e6c4a"
      },
      "execution_count": 8,
      "outputs": [
        {
          "output_type": "display_data",
          "data": {
            "text/html": [
              "<style>\n",
              ".list-inline {list-style: none; margin:0; padding: 0}\n",
              ".list-inline>li {display: inline-block}\n",
              ".list-inline>li:not(:last-child)::after {content: \"\\00b7\"; padding: 0 .5ex}\n",
              "</style>\n",
              "<ol class=list-inline><li>270767</li><li>17</li></ol>\n"
            ],
            "text/markdown": "1. 270767\n2. 17\n\n\n",
            "text/latex": "\\begin{enumerate*}\n\\item 270767\n\\item 17\n\\end{enumerate*}\n",
            "text/plain": [
              "[1] 270767     17"
            ]
          },
          "metadata": {}
        }
      ]
    },
    {
      "cell_type": "markdown",
      "source": [
        "#3 . One Column Selection"
      ],
      "metadata": {
        "id": "h50T6UX6NbCX"
      }
    },
    {
      "cell_type": "markdown",
      "source": [
        "#Highest country with medal"
      ],
      "metadata": {
        "id": "2mSUyOS5TJ0c"
      }
    },
    {
      "cell_type": "code",
      "source": [
        "library(tidyverse)\n",
        "\n",
        "library(dplyr)\n",
        "\n",
        "medal_actual <- df3[c(\"region\",\"Medal\")]\n",
        "\n",
        "\n",
        "\n",
        "#Dropping NA values from Dataframe\n",
        "\n",
        "medals <- medal_actual %>% drop_na()\n",
        "\n",
        "\n",
        "\n",
        "#Counting medal\n",
        "\n",
        "medal_total <- medals %>% group_by(region)%>%summarize(Medal = n())%>%arrange(desc(Medal))%>%head(n=10)\n",
        "\n",
        "head(medal_total)\n",
        "\n",
        ""
      ],
      "metadata": {
        "colab": {
          "base_uri": "https://localhost:8080/",
          "height": 286
        },
        "id": "JLKU-ELpC5Jr",
        "outputId": "652413aa-0598-49cf-de40-af2190d20849"
      },
      "execution_count": 29,
      "outputs": [
        {
          "output_type": "display_data",
          "data": {
            "text/html": [
              "<table class=\"dataframe\">\n",
              "<caption>A tibble: 6 × 2</caption>\n",
              "<thead>\n",
              "\t<tr><th scope=col>region</th><th scope=col>Medal</th></tr>\n",
              "\t<tr><th scope=col>&lt;chr&gt;</th><th scope=col>&lt;int&gt;</th></tr>\n",
              "</thead>\n",
              "<tbody>\n",
              "\t<tr><td>USA    </td><td>5637</td></tr>\n",
              "\t<tr><td>Russia </td><td>3947</td></tr>\n",
              "\t<tr><td>Germany</td><td>3756</td></tr>\n",
              "\t<tr><td>UK     </td><td>2068</td></tr>\n",
              "\t<tr><td>France </td><td>1777</td></tr>\n",
              "\t<tr><td>Italy  </td><td>1637</td></tr>\n",
              "</tbody>\n",
              "</table>\n"
            ],
            "text/markdown": "\nA tibble: 6 × 2\n\n| region &lt;chr&gt; | Medal &lt;int&gt; |\n|---|---|\n| USA     | 5637 |\n| Russia  | 3947 |\n| Germany | 3756 |\n| UK      | 2068 |\n| France  | 1777 |\n| Italy   | 1637 |\n\n",
            "text/latex": "A tibble: 6 × 2\n\\begin{tabular}{ll}\n region & Medal\\\\\n <chr> & <int>\\\\\n\\hline\n\t USA     & 5637\\\\\n\t Russia  & 3947\\\\\n\t Germany & 3756\\\\\n\t UK      & 2068\\\\\n\t France  & 1777\\\\\n\t Italy   & 1637\\\\\n\\end{tabular}\n",
            "text/plain": [
              "  region  Medal\n",
              "1 USA     5637 \n",
              "2 Russia  3947 \n",
              "3 Germany 3756 \n",
              "4 UK      2068 \n",
              "5 France  1777 \n",
              "6 Italy   1637 "
            ]
          },
          "metadata": {}
        }
      ]
    },
    {
      "cell_type": "markdown",
      "source": [
        "It can be observed that USA has won most number of medals. We will find out which sport in USA has won highest medals"
      ],
      "metadata": {
        "id": "nS5iwXdvKAai"
      }
    },
    {
      "cell_type": "code",
      "source": [
        "Sport <- df3[c('region','Sport', 'Medal')]|> drop_na(Medal)\n",
        "#head(Sport)\n",
        "#dim(Sport)\n",
        "\n",
        "#Selecting sports for USA\n",
        "Sports_USA <- Sport[Sport$region %in% c('USA'),]\n",
        "Sports_USA_final <- Sports_USA %>% group_by(region,Sport)%>%summarize(Medal = n())%>%arrange(desc(Medal))%>%head(n=10)\n",
        "head(Sports_USA_final)\n",
        "dim(Sports_USA_final)"
      ],
      "metadata": {
        "colab": {
          "base_uri": "https://localhost:8080/",
          "height": 338
        },
        "id": "suf8vuLBN1NO",
        "outputId": "9a2070cb-7b9f-4e2a-eb56-ab3984146fce"
      },
      "execution_count": 31,
      "outputs": [
        {
          "output_type": "stream",
          "name": "stderr",
          "text": [
            "\u001b[1m\u001b[22m`summarise()` has grouped output by 'region'. You can override using the\n",
            "`.groups` argument.\n"
          ]
        },
        {
          "output_type": "display_data",
          "data": {
            "text/html": [
              "<table class=\"dataframe\">\n",
              "<caption>A grouped_df: 6 × 3</caption>\n",
              "<thead>\n",
              "\t<tr><th scope=col>region</th><th scope=col>Sport</th><th scope=col>Medal</th></tr>\n",
              "\t<tr><th scope=col>&lt;chr&gt;</th><th scope=col>&lt;chr&gt;</th><th scope=col>&lt;int&gt;</th></tr>\n",
              "</thead>\n",
              "<tbody>\n",
              "\t<tr><td>USA</td><td>Athletics </td><td>1080</td></tr>\n",
              "\t<tr><td>USA</td><td>Swimming  </td><td>1078</td></tr>\n",
              "\t<tr><td>USA</td><td>Rowing    </td><td> 375</td></tr>\n",
              "\t<tr><td>USA</td><td>Basketball</td><td> 341</td></tr>\n",
              "\t<tr><td>USA</td><td>Ice Hockey</td><td> 276</td></tr>\n",
              "\t<tr><td>USA</td><td>Gymnastics</td><td> 194</td></tr>\n",
              "</tbody>\n",
              "</table>\n"
            ],
            "text/markdown": "\nA grouped_df: 6 × 3\n\n| region &lt;chr&gt; | Sport &lt;chr&gt; | Medal &lt;int&gt; |\n|---|---|---|\n| USA | Athletics  | 1080 |\n| USA | Swimming   | 1078 |\n| USA | Rowing     |  375 |\n| USA | Basketball |  341 |\n| USA | Ice Hockey |  276 |\n| USA | Gymnastics |  194 |\n\n",
            "text/latex": "A grouped\\_df: 6 × 3\n\\begin{tabular}{lll}\n region & Sport & Medal\\\\\n <chr> & <chr> & <int>\\\\\n\\hline\n\t USA & Athletics  & 1080\\\\\n\t USA & Swimming   & 1078\\\\\n\t USA & Rowing     &  375\\\\\n\t USA & Basketball &  341\\\\\n\t USA & Ice Hockey &  276\\\\\n\t USA & Gymnastics &  194\\\\\n\\end{tabular}\n",
            "text/plain": [
              "  region Sport      Medal\n",
              "1 USA    Athletics  1080 \n",
              "2 USA    Swimming   1078 \n",
              "3 USA    Rowing      375 \n",
              "4 USA    Basketball  341 \n",
              "5 USA    Ice Hockey  276 \n",
              "6 USA    Gymnastics  194 "
            ]
          },
          "metadata": {}
        },
        {
          "output_type": "display_data",
          "data": {
            "text/html": [
              "<style>\n",
              ".list-inline {list-style: none; margin:0; padding: 0}\n",
              ".list-inline>li {display: inline-block}\n",
              ".list-inline>li:not(:last-child)::after {content: \"\\00b7\"; padding: 0 .5ex}\n",
              "</style>\n",
              "<ol class=list-inline><li>10</li><li>3</li></ol>\n"
            ],
            "text/markdown": "1. 10\n2. 3\n\n\n",
            "text/latex": "\\begin{enumerate*}\n\\item 10\n\\item 3\n\\end{enumerate*}\n",
            "text/plain": [
              "[1] 10  3"
            ]
          },
          "metadata": {}
        }
      ]
    },
    {
      "cell_type": "markdown",
      "source": [
        "#Highest sport with medal"
      ],
      "metadata": {
        "id": "70TWstdtTVDf"
      }
    },
    {
      "cell_type": "code",
      "source": [
        "#Counting the sport that has won us the highest medals\n",
        "\n",
        "Sports_USA_Total <- Sports_USA %>% group_by(Sport)%>%summarize(Medal = n())%>%arrange(desc(Medal))\n",
        "\n",
        "head(Sports_USA_Total)\n",
        "dim(Sports_USA_Total)\n"
      ],
      "metadata": {
        "colab": {
          "base_uri": "https://localhost:8080/",
          "height": 303
        },
        "id": "BkUN_kgWOMn3",
        "outputId": "87817775-cc0b-4788-ee76-de3613e60705"
      },
      "execution_count": 32,
      "outputs": [
        {
          "output_type": "display_data",
          "data": {
            "text/html": [
              "<table class=\"dataframe\">\n",
              "<caption>A tibble: 6 × 2</caption>\n",
              "<thead>\n",
              "\t<tr><th scope=col>Sport</th><th scope=col>Medal</th></tr>\n",
              "\t<tr><th scope=col>&lt;chr&gt;</th><th scope=col>&lt;int&gt;</th></tr>\n",
              "</thead>\n",
              "<tbody>\n",
              "\t<tr><td>Athletics </td><td>1080</td></tr>\n",
              "\t<tr><td>Swimming  </td><td>1078</td></tr>\n",
              "\t<tr><td>Rowing    </td><td> 375</td></tr>\n",
              "\t<tr><td>Basketball</td><td> 341</td></tr>\n",
              "\t<tr><td>Ice Hockey</td><td> 276</td></tr>\n",
              "\t<tr><td>Gymnastics</td><td> 194</td></tr>\n",
              "</tbody>\n",
              "</table>\n"
            ],
            "text/markdown": "\nA tibble: 6 × 2\n\n| Sport &lt;chr&gt; | Medal &lt;int&gt; |\n|---|---|\n| Athletics  | 1080 |\n| Swimming   | 1078 |\n| Rowing     |  375 |\n| Basketball |  341 |\n| Ice Hockey |  276 |\n| Gymnastics |  194 |\n\n",
            "text/latex": "A tibble: 6 × 2\n\\begin{tabular}{ll}\n Sport & Medal\\\\\n <chr> & <int>\\\\\n\\hline\n\t Athletics  & 1080\\\\\n\t Swimming   & 1078\\\\\n\t Rowing     &  375\\\\\n\t Basketball &  341\\\\\n\t Ice Hockey &  276\\\\\n\t Gymnastics &  194\\\\\n\\end{tabular}\n",
            "text/plain": [
              "  Sport      Medal\n",
              "1 Athletics  1080 \n",
              "2 Swimming   1078 \n",
              "3 Rowing      375 \n",
              "4 Basketball  341 \n",
              "5 Ice Hockey  276 \n",
              "6 Gymnastics  194 "
            ]
          },
          "metadata": {}
        },
        {
          "output_type": "display_data",
          "data": {
            "text/html": [
              "<style>\n",
              ".list-inline {list-style: none; margin:0; padding: 0}\n",
              ".list-inline>li {display: inline-block}\n",
              ".list-inline>li:not(:last-child)::after {content: \"\\00b7\"; padding: 0 .5ex}\n",
              "</style>\n",
              "<ol class=list-inline><li>51</li><li>2</li></ol>\n"
            ],
            "text/markdown": "1. 51\n2. 2\n\n\n",
            "text/latex": "\\begin{enumerate*}\n\\item 51\n\\item 2\n\\end{enumerate*}\n",
            "text/plain": [
              "[1] 51  2"
            ]
          },
          "metadata": {}
        }
      ]
    },
    {
      "cell_type": "markdown",
      "source": [
        "#Athelete which has won most number of medals in Sports"
      ],
      "metadata": {
        "id": "DElj0I3LTeY9"
      }
    },
    {
      "cell_type": "code",
      "source": [
        "#Athletics has won the highest medals for USA\n",
        "\n",
        "#Lets see which athelete has won maximum medals in athletics\n",
        "\n",
        "Athletics <- df3[c('region','Name','Sex','Sport', 'Medal')]|> drop_na(Medal)\n",
        "#head(Athletics)\n",
        "#dim(Athletics)\n",
        "\n",
        "#Selecting the USA atheletes and the sport as Athletics\n",
        "Athletics_USA <- Athletics[Athletics$region %in% c('USA'),]\n",
        "Athletics_USA <- Athletics_USA[Athletics_USA$Sport %in% c('Athletics'),]\n",
        "\n",
        "#head(Athletics_USA)\n",
        "\n",
        "Athlete_name <- Athletics_USA %>% group_by(Name,Sex,Sport) %>% summarize(Medal = n())%>% arrange(desc(Medal))%>%head(n=4)\n",
        "head(Athlete_name)\n",
        "dim(Athlete_name)"
      ],
      "metadata": {
        "colab": {
          "base_uri": "https://localhost:8080/",
          "height": 275
        },
        "id": "9T0xSK7oP2CQ",
        "outputId": "76114fcd-32f2-4c1f-8f29-32974c37e83d"
      },
      "execution_count": 33,
      "outputs": [
        {
          "output_type": "stream",
          "name": "stderr",
          "text": [
            "\u001b[1m\u001b[22m`summarise()` has grouped output by 'Name', 'Sex'. You can override using the\n",
            "`.groups` argument.\n"
          ]
        },
        {
          "output_type": "display_data",
          "data": {
            "text/html": [
              "<table class=\"dataframe\">\n",
              "<caption>A grouped_df: 4 × 4</caption>\n",
              "<thead>\n",
              "\t<tr><th scope=col>Name</th><th scope=col>Sex</th><th scope=col>Sport</th><th scope=col>Medal</th></tr>\n",
              "\t<tr><th scope=col>&lt;chr&gt;</th><th scope=col>&lt;chr&gt;</th><th scope=col>&lt;chr&gt;</th><th scope=col>&lt;int&gt;</th></tr>\n",
              "</thead>\n",
              "<tbody>\n",
              "\t<tr><td>Frederick Carlton \"Carl\" Lewis</td><td>M</td><td>Athletics</td><td>10</td></tr>\n",
              "\t<tr><td>Raymond Clarence \"Ray\" Ewry   </td><td>M</td><td>Athletics</td><td>10</td></tr>\n",
              "\t<tr><td>Allyson Michelle Felix        </td><td>F</td><td>Athletics</td><td> 9</td></tr>\n",
              "\t<tr><td>Martin Joseph Sheridan        </td><td>M</td><td>Athletics</td><td> 9</td></tr>\n",
              "</tbody>\n",
              "</table>\n"
            ],
            "text/markdown": "\nA grouped_df: 4 × 4\n\n| Name &lt;chr&gt; | Sex &lt;chr&gt; | Sport &lt;chr&gt; | Medal &lt;int&gt; |\n|---|---|---|---|\n| Frederick Carlton \"Carl\" Lewis | M | Athletics | 10 |\n| Raymond Clarence \"Ray\" Ewry    | M | Athletics | 10 |\n| Allyson Michelle Felix         | F | Athletics |  9 |\n| Martin Joseph Sheridan         | M | Athletics |  9 |\n\n",
            "text/latex": "A grouped\\_df: 4 × 4\n\\begin{tabular}{llll}\n Name & Sex & Sport & Medal\\\\\n <chr> & <chr> & <chr> & <int>\\\\\n\\hline\n\t Frederick Carlton \"Carl\" Lewis & M & Athletics & 10\\\\\n\t Raymond Clarence \"Ray\" Ewry    & M & Athletics & 10\\\\\n\t Allyson Michelle Felix         & F & Athletics &  9\\\\\n\t Martin Joseph Sheridan         & M & Athletics &  9\\\\\n\\end{tabular}\n",
            "text/plain": [
              "  Name                           Sex Sport     Medal\n",
              "1 Frederick Carlton \"Carl\" Lewis M   Athletics 10   \n",
              "2 Raymond Clarence \"Ray\" Ewry    M   Athletics 10   \n",
              "3 Allyson Michelle Felix         F   Athletics  9   \n",
              "4 Martin Joseph Sheridan         M   Athletics  9   "
            ]
          },
          "metadata": {}
        },
        {
          "output_type": "display_data",
          "data": {
            "text/html": [
              "<style>\n",
              ".list-inline {list-style: none; margin:0; padding: 0}\n",
              ".list-inline>li {display: inline-block}\n",
              ".list-inline>li:not(:last-child)::after {content: \"\\00b7\"; padding: 0 .5ex}\n",
              "</style>\n",
              "<ol class=list-inline><li>4</li><li>4</li></ol>\n"
            ],
            "text/markdown": "1. 4\n2. 4\n\n\n",
            "text/latex": "\\begin{enumerate*}\n\\item 4\n\\item 4\n\\end{enumerate*}\n",
            "text/plain": [
              "[1] 4 4"
            ]
          },
          "metadata": {}
        }
      ]
    },
    {
      "cell_type": "markdown",
      "source": [
        "6) Plot"
      ],
      "metadata": {
        "id": "l1xUuhAewsBy"
      }
    },
    {
      "cell_type": "code",
      "source": [
        "head(medal_total)"
      ],
      "metadata": {
        "colab": {
          "base_uri": "https://localhost:8080/",
          "height": 286
        },
        "id": "FlondBlfw-S2",
        "outputId": "bd2a316b-35b2-4358-f71a-5a0a8c9060e7"
      },
      "execution_count": 34,
      "outputs": [
        {
          "output_type": "display_data",
          "data": {
            "text/html": [
              "<table class=\"dataframe\">\n",
              "<caption>A tibble: 6 × 2</caption>\n",
              "<thead>\n",
              "\t<tr><th scope=col>region</th><th scope=col>Medal</th></tr>\n",
              "\t<tr><th scope=col>&lt;chr&gt;</th><th scope=col>&lt;int&gt;</th></tr>\n",
              "</thead>\n",
              "<tbody>\n",
              "\t<tr><td>USA    </td><td>5637</td></tr>\n",
              "\t<tr><td>Russia </td><td>3947</td></tr>\n",
              "\t<tr><td>Germany</td><td>3756</td></tr>\n",
              "\t<tr><td>UK     </td><td>2068</td></tr>\n",
              "\t<tr><td>France </td><td>1777</td></tr>\n",
              "\t<tr><td>Italy  </td><td>1637</td></tr>\n",
              "</tbody>\n",
              "</table>\n"
            ],
            "text/markdown": "\nA tibble: 6 × 2\n\n| region &lt;chr&gt; | Medal &lt;int&gt; |\n|---|---|\n| USA     | 5637 |\n| Russia  | 3947 |\n| Germany | 3756 |\n| UK      | 2068 |\n| France  | 1777 |\n| Italy   | 1637 |\n\n",
            "text/latex": "A tibble: 6 × 2\n\\begin{tabular}{ll}\n region & Medal\\\\\n <chr> & <int>\\\\\n\\hline\n\t USA     & 5637\\\\\n\t Russia  & 3947\\\\\n\t Germany & 3756\\\\\n\t UK      & 2068\\\\\n\t France  & 1777\\\\\n\t Italy   & 1637\\\\\n\\end{tabular}\n",
            "text/plain": [
              "  region  Medal\n",
              "1 USA     5637 \n",
              "2 Russia  3947 \n",
              "3 Germany 3756 \n",
              "4 UK      2068 \n",
              "5 France  1777 \n",
              "6 Italy   1637 "
            ]
          },
          "metadata": {}
        }
      ]
    },
    {
      "cell_type": "code",
      "source": [
        "#Plotting bar chart for Brazil when it is hosting vs not hosting\n",
        "\n",
        "library(ggplot2)\n",
        "\n",
        "\n",
        "\n",
        "# Create a data frame\n",
        "\n",
        "\n",
        "# Create a bar chart using ggplot2\n",
        "\n",
        "ggplot(medal_total, aes(x = region, y = Medal, fill = region)) +\n",
        "\n",
        "  geom_bar(stat = \"identity\") +\n",
        "\n",
        "  labs(title = \"Total Medal\", x = \"Country\", y = \"Medal\") +\n",
        "\n",
        "  theme(legend.position = \"none\",\n",
        "\n",
        "                     axis.text = element_text(size = 8,face=\"bold\"),\n",
        "\n",
        "        plot.title = element_text(size=25,face = \"bold\")) +\n",
        "\n",
        "  ggtitle(\"Country with Highest Medal - Olympics 1896 to 2016\")"
      ],
      "metadata": {
        "colab": {
          "base_uri": "https://localhost:8080/",
          "height": 437
        },
        "id": "dw5uoBJCwpSc",
        "outputId": "966f8517-b5bb-4bbd-8493-f943eed6315e"
      },
      "execution_count": 35,
      "outputs": [
        {
          "output_type": "display_data",
          "data": {
            "text/plain": [
              "plot without title"
            ],
            "image/png": "[encoded data removed]"
          },
          "metadata": {
            "image/png": {
              "width": 420,
              "height": 420
            }
          }
        }
      ]
    },
    {
      "cell_type": "markdown",
      "source": [
        "As per the graph we can analysis that USA has in Highesh numbers of awards\n",
        "and Hungary has won least medals. Russia and Germany is second and Third ranking"
      ],
      "metadata": {
        "id": "Fz2SbaHQ3sz4"
      }
    },
    {
      "cell_type": "markdown",
      "source": [
        "##Ploting sports which has won highest medals for USA"
      ],
      "metadata": {
        "id": "dAheyah7yZFs"
      }
    },
    {
      "cell_type": "code",
      "source": [
        "head(Sports_USA_final)"
      ],
      "metadata": {
        "colab": {
          "base_uri": "https://localhost:8080/",
          "height": 286
        },
        "id": "FpQf7leWyxnE",
        "outputId": "e8497317-7484-44a5-93ee-6b525a891b58"
      },
      "execution_count": 36,
      "outputs": [
        {
          "output_type": "display_data",
          "data": {
            "text/html": [
              "<table class=\"dataframe\">\n",
              "<caption>A grouped_df: 6 × 3</caption>\n",
              "<thead>\n",
              "\t<tr><th scope=col>region</th><th scope=col>Sport</th><th scope=col>Medal</th></tr>\n",
              "\t<tr><th scope=col>&lt;chr&gt;</th><th scope=col>&lt;chr&gt;</th><th scope=col>&lt;int&gt;</th></tr>\n",
              "</thead>\n",
              "<tbody>\n",
              "\t<tr><td>USA</td><td>Athletics </td><td>1080</td></tr>\n",
              "\t<tr><td>USA</td><td>Swimming  </td><td>1078</td></tr>\n",
              "\t<tr><td>USA</td><td>Rowing    </td><td> 375</td></tr>\n",
              "\t<tr><td>USA</td><td>Basketball</td><td> 341</td></tr>\n",
              "\t<tr><td>USA</td><td>Ice Hockey</td><td> 276</td></tr>\n",
              "\t<tr><td>USA</td><td>Gymnastics</td><td> 194</td></tr>\n",
              "</tbody>\n",
              "</table>\n"
            ],
            "text/markdown": "\nA grouped_df: 6 × 3\n\n| region &lt;chr&gt; | Sport &lt;chr&gt; | Medal &lt;int&gt; |\n|---|---|---|\n| USA | Athletics  | 1080 |\n| USA | Swimming   | 1078 |\n| USA | Rowing     |  375 |\n| USA | Basketball |  341 |\n| USA | Ice Hockey |  276 |\n| USA | Gymnastics |  194 |\n\n",
            "text/latex": "A grouped\\_df: 6 × 3\n\\begin{tabular}{lll}\n region & Sport & Medal\\\\\n <chr> & <chr> & <int>\\\\\n\\hline\n\t USA & Athletics  & 1080\\\\\n\t USA & Swimming   & 1078\\\\\n\t USA & Rowing     &  375\\\\\n\t USA & Basketball &  341\\\\\n\t USA & Ice Hockey &  276\\\\\n\t USA & Gymnastics &  194\\\\\n\\end{tabular}\n",
            "text/plain": [
              "  region Sport      Medal\n",
              "1 USA    Athletics  1080 \n",
              "2 USA    Swimming   1078 \n",
              "3 USA    Rowing      375 \n",
              "4 USA    Basketball  341 \n",
              "5 USA    Ice Hockey  276 \n",
              "6 USA    Gymnastics  194 "
            ]
          },
          "metadata": {}
        }
      ]
    },
    {
      "cell_type": "code",
      "source": [
        "ggplot(Sports_USA_final, aes(x = \"\", y = Sport, fill = Sport)) +\n",
        "  geom_bar(stat = \"identity\", width = 1) +\n",
        "  coord_polar(theta = \"y\") +\n",
        "  labs(title = \"Pie Chart with ggplot2\", fill = \"Categories\") +\n",
        "  theme_void()"
      ],
      "metadata": {
        "colab": {
          "base_uri": "https://localhost:8080/",
          "height": 437
        },
        "id": "YzGKwag8xteT",
        "outputId": "83793294-1406-423c-b8c9-52f66e5e3302"
      },
      "execution_count": 37,
      "outputs": [
        {
          "output_type": "display_data",
          "data": {
            "text/plain": [
              "plot without title"
            ],
            "image/png": "[encoded data removed]"
          },
          "metadata": {
            "image/png": {
              "width": 420,
              "height": 420
            }
          }
        }
      ]
    },
    {
      "cell_type": "markdown",
      "source": [],
      "metadata": {
        "id": "snp1Zub-CHOD"
      }
    },
    {
      "cell_type": "markdown",
      "source": [
        "The Pie chart Represents Athletics is the sports in which sportsman has won the most of the Medals. Shooting is second major sports for getting medals"
      ],
      "metadata": {
        "id": "ngodvwEF43-3"
      }
    },
    {
      "cell_type": "code",
      "source": [
        "\n",
        "\n",
        "#Data wrangling for plotting countries with highest medals.\n",
        "\n",
        "\n",
        "#Arranging by region and total medals for plotting\n",
        "\n",
        "Sports_USA_final$Sport <- factor(Sports_USA_final$Sport,levels = Sports_USA_final$Sport[order(Sports_USA_final$Medal)])\n",
        "\n",
        "\n",
        "ggplot(Sports_USA_final,aes(Sport,Medal,color=Sport,fill=Sport)) +\n",
        "\n",
        "  geom_bar(position = \"stack\",  width =.6,stat=\"identity\") +\n",
        "\n",
        "  coord_flip()+\n",
        "\n",
        "  geom_text(aes(label=Sport,hjust=-.03,  colour=\"black\"),size=3)+\n",
        "\n",
        "\n",
        "\n",
        "  theme(axis.line = element_line(color = \"Black\",size=1))+\n",
        "\n",
        "      theme(panel.background=element_blank())+\n",
        "\n",
        "      scale_x_discrete() +\n",
        "\n",
        "    xlab(\"\")+ylab(\"Medals\")+\n",
        "\n",
        "  theme(legend.position = \"none\",\n",
        "\n",
        "                     axis.text = element_text(size = 8,face=\"bold\"),\n",
        "\n",
        "        plot.title = element_text(size=16,face = \"bold\")) +\n",
        "\n",
        "  ggtitle(\"Top medals y Sports - Summer Olympics 1896 to 2016\")\n",
        "\n",
        "\n"
      ],
      "metadata": {
        "colab": {
          "base_uri": "https://localhost:8080/",
          "height": 489
        },
        "id": "IEte1dRi0I4k",
        "outputId": "7695bd7e-d0ce-4c4d-9c31-f9c64460d1cc"
      },
      "execution_count": 38,
      "outputs": [
        {
          "output_type": "stream",
          "name": "stderr",
          "text": [
            "Warning message:\n",
            "“\u001b[1m\u001b[22mThe `size` argument of `element_line()` is deprecated as of ggplot2 3.4.0.\n",
            "\u001b[36mℹ\u001b[39m Please use the `linewidth` argument instead.”\n"
          ]
        },
        {
          "output_type": "display_data",
          "data": {
            "text/plain": [
              "plot without title"
            ],
            "image/png": "[encoded data removed]"
          },
          "metadata": {
            "image/png": {
              "width": 420,
              "height": 420
            }
          }
        }
      ]
    },
    {
      "cell_type": "markdown",
      "source": [
        "The Line Graph represents in Atheletics sports sportsperson has won most of the Medals and diving sports is the least"
      ],
      "metadata": {
        "id": "UhNGjKfr5kES"
      }
    },
    {
      "cell_type": "code",
      "source": [
        "Athlete_name"
      ],
      "metadata": {
        "colab": {
          "base_uri": "https://localhost:8080/",
          "height": 223
        },
        "id": "FP71Q07y2ztg",
        "outputId": "191e2689-491e-43cf-fe47-f25535be37e5"
      },
      "execution_count": 39,
      "outputs": [
        {
          "output_type": "display_data",
          "data": {
            "text/html": [
              "<table class=\"dataframe\">\n",
              "<caption>A grouped_df: 4 × 4</caption>\n",
              "<thead>\n",
              "\t<tr><th scope=col>Name</th><th scope=col>Sex</th><th scope=col>Sport</th><th scope=col>Medal</th></tr>\n",
              "\t<tr><th scope=col>&lt;chr&gt;</th><th scope=col>&lt;chr&gt;</th><th scope=col>&lt;chr&gt;</th><th scope=col>&lt;int&gt;</th></tr>\n",
              "</thead>\n",
              "<tbody>\n",
              "\t<tr><td>Frederick Carlton \"Carl\" Lewis</td><td>M</td><td>Athletics</td><td>10</td></tr>\n",
              "\t<tr><td>Raymond Clarence \"Ray\" Ewry   </td><td>M</td><td>Athletics</td><td>10</td></tr>\n",
              "\t<tr><td>Allyson Michelle Felix        </td><td>F</td><td>Athletics</td><td> 9</td></tr>\n",
              "\t<tr><td>Martin Joseph Sheridan        </td><td>M</td><td>Athletics</td><td> 9</td></tr>\n",
              "</tbody>\n",
              "</table>\n"
            ],
            "text/markdown": "\nA grouped_df: 4 × 4\n\n| Name &lt;chr&gt; | Sex &lt;chr&gt; | Sport &lt;chr&gt; | Medal &lt;int&gt; |\n|---|---|---|---|\n| Frederick Carlton \"Carl\" Lewis | M | Athletics | 10 |\n| Raymond Clarence \"Ray\" Ewry    | M | Athletics | 10 |\n| Allyson Michelle Felix         | F | Athletics |  9 |\n| Martin Joseph Sheridan         | M | Athletics |  9 |\n\n",
            "text/latex": "A grouped\\_df: 4 × 4\n\\begin{tabular}{llll}\n Name & Sex & Sport & Medal\\\\\n <chr> & <chr> & <chr> & <int>\\\\\n\\hline\n\t Frederick Carlton \"Carl\" Lewis & M & Athletics & 10\\\\\n\t Raymond Clarence \"Ray\" Ewry    & M & Athletics & 10\\\\\n\t Allyson Michelle Felix         & F & Athletics &  9\\\\\n\t Martin Joseph Sheridan         & M & Athletics &  9\\\\\n\\end{tabular}\n",
            "text/plain": [
              "  Name                           Sex Sport     Medal\n",
              "1 Frederick Carlton \"Carl\" Lewis M   Athletics 10   \n",
              "2 Raymond Clarence \"Ray\" Ewry    M   Athletics 10   \n",
              "3 Allyson Michelle Felix         F   Athletics  9   \n",
              "4 Martin Joseph Sheridan         M   Athletics  9   "
            ]
          },
          "metadata": {}
        }
      ]
    },
    {
      "cell_type": "code",
      "source": [
        "#Plotting bar chart for Brazil when it is hosting vs not hosting\n",
        "\n",
        "library(ggplot2)\n",
        "\n",
        "\n",
        "\n",
        "# Create a data frame\n",
        "\n",
        "\n",
        "# Create a bar chart using ggplot2\n",
        "\n",
        "ggplot(Athlete_name, aes(x = Name, y = Medal, fill = Sex)) +\n",
        "\n",
        "  geom_bar(stat = \"identity\") +\n",
        "\n",
        "  labs(title = \"Total Medal\", x = \"Country\", y = \"Medal\") +\n",
        "\n",
        "  theme(legend.position = \"none\",\n",
        "\n",
        "                     axis.text = element_text(size = 8,face=\"bold\"),\n",
        "\n",
        "        plot.title = element_text(size=25,face = \"bold\")) +\n",
        "\n",
        "  ggtitle(\"Athletes with highest medals - Olympics 1896 to 2016\")"
      ],
      "metadata": {
        "colab": {
          "base_uri": "https://localhost:8080/",
          "height": 437
        },
        "id": "jwb9KtyG16B6",
        "outputId": "48120783-fb58-4e08-b279-9ed5f32a28ed"
      },
      "execution_count": 40,
      "outputs": [
        {
          "output_type": "display_data",
          "data": {
            "text/plain": [
              "plot without title"
            ],
            "image/png": "[encoded data removed]"
          },
          "metadata": {
            "image/png": {
              "width": 420,
              "height": 420
            }
          }
        }
      ]
    },
    {
      "cell_type": "markdown",
      "source": [
        "The Line Graph represents Frederick Carlton \"Carl\" Lewis has won the most of the medals in olympics. Second highest is Raymond Clarence \"Ray\" Ewry.\n",
        "Third highest is Female. Allyson Michelle Felix is the only who is in top 5 sportsperson who has won most of the medals."
      ],
      "metadata": {
        "id": "50KegHPm6OXn"
      }
    },
    {
      "cell_type": "markdown",
      "source": [
        "***SUMMARY***"
      ],
      "metadata": {
        "id": "xqj8Q0oo3I6o"
      }
    },
    {
      "cell_type": "markdown",
      "source": [
        "1. First i filterout which country has won most of the Medals. USA has won most of Medals\n",
        "2. In USA i have analysed the Atheletics sport. In which most sportsperson has won the medals\n",
        "3. After Figuring out Atheletics sport. I have Analysed top 5 sportsperson who has won most of medals\n",
        "5. After figuring out top 5 persons. I have plotted Several Graph according to the which country has won most medals, which sports has won most of the medals. I have Analysised in Bar graph top 4 persons who won the awards\n"
      ],
      "metadata": {
        "id": "2XCsvLtm7coU"
      }
    },
    {
      "cell_type": "markdown",
      "source": [
        "***Recommendations***"
      ],
      "metadata": {
        "id": "eIPIJNqr7WVc"
      }
    },
    {
      "cell_type": "markdown",
      "source": [
        "As per my analysis of the Olympic Data set. I have analysed the kellogs Sponcership should be offer to One Male and One Female Sportsperson.\n",
        "Frederick Carlton Lewis and Allyson Michelle Felix.  \n",
        "Kellogs should offer Frederick Carlton Lewisa sponcership because he has famous and he has worldwide recongnation. Coz of winning and proven records he is same. His popularity will help Kellogs to boost the sales.\n",
        "Kellogs should offer to Female Sportperson also. Because we Believe in women empowerment and women easily connects with another women."
      ],
      "metadata": {
        "id": "wkLfclyw-oQz"
      }
    }
  ]
}